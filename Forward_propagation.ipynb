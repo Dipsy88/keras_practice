{
 "cells": [
  {
   "cell_type": "code",
   "execution_count": 13,
   "metadata": {},
   "outputs": [],
   "source": [
    "import numpy as np\n",
    "import pandas as pd\n",
    "import matplotlib.pyplot as plt\n"
   ]
  },
  {
   "cell_type": "code",
   "execution_count": 14,
   "metadata": {},
   "outputs": [],
   "source": [
    "# 1. First doing all manually\n",
    "\n",
    "weights = np.around(np.random.uniform(size=6), decimals=2) # initialize weights\n",
    "biases = np.around(np.random.uniform(size =3), decimals=2) # initialize biases\n"
   ]
  },
  {
   "cell_type": "code",
   "execution_count": 18,
   "metadata": {},
   "outputs": [
    {
     "name": "stdout",
     "output_type": "stream",
     "text": [
      "[0.49 0.73 0.69 0.99 0.13 0.66]\n",
      "[0.06 0.64 0.04]\n"
     ]
    }
   ],
   "source": [
    "print(weights)\n",
    "print(biases)"
   ]
  },
  {
   "cell_type": "code",
   "execution_count": 20,
   "metadata": {},
   "outputs": [
    {
     "name": "stdout",
     "output_type": "stream",
     "text": [
      "x1 is 0.5 and x2 is 0.85\n"
     ]
    }
   ],
   "source": [
    "x_1= 0.5 # input 1\n",
    "x_2 = 0.85 # input 2\n",
    "\n",
    "print('x1 is {} and x2 is {}'.format(x_1,x_2))"
   ]
  },
  {
   "cell_type": "code",
   "execution_count": 21,
   "metadata": {},
   "outputs": [
    {
     "name": "stdout",
     "output_type": "stream",
     "text": [
      "weight is 0.9255\n"
     ]
    }
   ],
   "source": [
    "# calculate weight of the first node of the hidden layer\n",
    "z_11 = x_1*weights[0] + x_2*weights[1] + biases[0]\n",
    "print(\"weight of first node is {}\".format(z_11))"
   ]
  },
  {
   "cell_type": "code",
   "execution_count": 24,
   "metadata": {},
   "outputs": [
    {
     "name": "stdout",
     "output_type": "stream",
     "text": [
      "weight of the second node is 1.8265000000000002\n"
     ]
    }
   ],
   "source": [
    "# calculate weight of the second node of the hidden layer\n",
    "z_12 = x_1*weights[2] + x_2*weights[3] + biases[1]\n",
    "print(\"weight of the second node is {}\".format(z_12))"
   ]
  },
  {
   "cell_type": "code",
   "execution_count": 26,
   "metadata": {},
   "outputs": [
    {
     "name": "stdout",
     "output_type": "stream",
     "text": [
      "Activation of the first node is 0.7161614419153066\n"
     ]
    }
   ],
   "source": [
    "# activation function of the first node\n",
    "a_11= 1.0/(1.0 + np.exp(-z_11))\n",
    "print (\"Activation of the first node is {}\".format(a_11))"
   ]
  },
  {
   "cell_type": "code",
   "execution_count": 27,
   "metadata": {},
   "outputs": [
    {
     "name": "stdout",
     "output_type": "stream",
     "text": [
      "Activation of the second node is 0.8613442490720132\n"
     ]
    }
   ],
   "source": [
    "# activation function of the second node\n",
    "a_12 = 1.0/(1.0 + np.exp(-z_12))\n",
    "print (\"Activation of the second node is {}\".format(a_12))"
   ]
  },
  {
   "cell_type": "code",
   "execution_count": 29,
   "metadata": {},
   "outputs": [
    {
     "name": "stdout",
     "output_type": "stream",
     "text": [
      "The weighted sum of the node in the output layer is 0.7015881918365187\n"
     ]
    }
   ],
   "source": [
    "z_2 = a_11*weights[4] + a_12*weights[5] + biases[2]\n",
    "print (\"The weighted sum of the node in the output layer is {}\".format(z_2))"
   ]
  },
  {
   "cell_type": "code",
   "execution_count": 31,
   "metadata": {},
   "outputs": [
    {
     "name": "stdout",
     "output_type": "stream",
     "text": [
      "Acivation for the outer layer is 0.6685398006376965\n"
     ]
    }
   ],
   "source": [
    "# activation function for the output node\n",
    "a_2 = 1.0/(1.0 + np.exp(-z_2))\n",
    "print(\"Acivation for the outer layer is {}\".format(a_2))"
   ]
  },
  {
   "cell_type": "code",
   "execution_count": 32,
   "metadata": {},
   "outputs": [
    {
     "name": "stdout",
     "output_type": "stream",
     "text": [
      "The output of the network for x1 = 0.5 and x2 = 0.85 is 0.6685\n"
     ]
    }
   ],
   "source": [
    "print('The output of the network for x1 = 0.5 and x2 = 0.85 is {}'.format(np.around(a_2, decimals=4)))"
   ]
  },
  {
   "cell_type": "code",
   "execution_count": 33,
   "metadata": {},
   "outputs": [],
   "source": [
    "# 2. Doing automatically\n",
    "n = 2 # number of inputs\n",
    "num_hidden_layers = 2 # number of hidden layers\n",
    "m = [2,2]   # number of nodes in each hidden layer\n",
    "num_nodes_output = 1 # number of nodes in the output layer"
   ]
  },
  {
   "cell_type": "code",
   "execution_count": 38,
   "metadata": {},
   "outputs": [
    {
     "name": "stdout",
     "output_type": "stream",
     "text": [
      "{'layer_1': {'node_1': {'weights': array([0.82, 0.44]), 'bias': array([0.28])}, 'node_2': {'weights': array([0.13, 0.3 ]), 'bias': array([0.32])}}, 'layer_2': {'node_1': {'weights': array([0.04, 0.92]), 'bias': array([0.15])}, 'node_2': {'weights': array([0.06, 0.44]), 'bias': array([0.33])}}, 'output': {'node_1': {'weights': array([0.85, 0.52]), 'bias': array([0.46])}}}\n"
     ]
    }
   ],
   "source": [
    "num_nodes_previous = n # number of nodes in the previous layer\n",
    "\n",
    "network = {} # initialize nodes in an empty network\n",
    "\n",
    "for layer in range (num_hidden_layers+1):\n",
    "    # name of layer\n",
    "    if layer == num_hidden_layers:\n",
    "        layer_name = 'output'\n",
    "        num_nodes = num_nodes_output\n",
    "    else:\n",
    "        layer_name = \"layer_{}\".format(layer+1)\n",
    "        num_nodes = m[layer]\n",
    "        \n",
    "    # initialize weights and biases associated with each node in the current layer\n",
    "    network[layer_name] = {}\n",
    "    for node in range(num_nodes):\n",
    "        node_name = \"node_{}\".format(node+1)\n",
    "        network[layer_name][node_name] = {\n",
    "            'weights': np.around(np.random.uniform(size=num_nodes_previous), decimals = 2),\n",
    "            'bias': np.around(np.random.uniform(size=1),decimals=2)\n",
    "        }\n",
    "        \n",
    "    num_nodes_previous = num_nodes\n",
    "    \n",
    "print(network)\n"
   ]
  },
  {
   "cell_type": "code",
   "execution_count": 39,
   "metadata": {},
   "outputs": [],
   "source": [
    "def initialize_network(num_inputs, hidden_layers, num_nodes_hidden, num_nodes_output):\n",
    "    num_nodes_previous = n # number of nodes in the previous layer\n",
    "\n",
    "    network = {} # initialize nodes in an empty network\n",
    "\n",
    "    for layer in range (num_hidden_layers+1):\n",
    "        # name of layer\n",
    "        if layer == num_hidden_layers:\n",
    "            layer_name = 'output'\n",
    "            num_nodes = num_nodes_output\n",
    "        else:\n",
    "            layer_name = \"layer_{}\".format(layer+1)\n",
    "            num_nodes = num_nodes_hidden[layer]\n",
    "\n",
    "        # initialize weights and biases associated with each node in the current layer\n",
    "        network[layer_name] = {}\n",
    "        for node in range(num_nodes):\n",
    "            node_name = \"node_{}\".format(node+1)\n",
    "            network[layer_name][node_name] = {\n",
    "                'weights': np.around(np.random.uniform(size=num_nodes_previous), decimals = 2),\n",
    "                'bias': np.around(np.random.uniform(size=1),decimals=2)\n",
    "            }\n",
    "\n",
    "        num_nodes_previous = num_nodes\n",
    "        \n",
    "    return network # network\n",
    "    "
   ]
  },
  {
   "cell_type": "code",
   "execution_count": 48,
   "metadata": {},
   "outputs": [
    {
     "name": "stdout",
     "output_type": "stream",
     "text": [
      "{'layer_1': {'node_1': {'weights': array([0.61, 0.94]), 'bias': array([0.85])}, 'node_2': {'weights': array([0.  , 0.52]), 'bias': array([0.55])}, 'node_3': {'weights': array([0.49, 0.77]), 'bias': array([0.16])}}, 'layer_2': {'node_1': {'weights': array([0.76, 0.02, 0.14]), 'bias': array([0.12])}, 'node_2': {'weights': array([0.31, 0.67, 0.47]), 'bias': array([0.82])}}, 'output': {'node_1': {'weights': array([0.29, 0.73]), 'bias': array([0.7])}}}\n"
     ]
    }
   ],
   "source": [
    "num_nodes = [3,2,3]\n",
    "small_network = initialize_network(5, 3, num_nodes,1)\n",
    "print(small_network)"
   ]
  },
  {
   "cell_type": "code",
   "execution_count": 65,
   "metadata": {},
   "outputs": [],
   "source": [
    "# function to compute weighted sum at each node\n",
    "def compute_weighted_sum(inputs, weights, bias):\n",
    "    return np.sum(inputs * weights) + bias"
   ]
  },
  {
   "cell_type": "code",
   "execution_count": 71,
   "metadata": {},
   "outputs": [
    {
     "name": "stdout",
     "output_type": "stream",
     "text": [
      "The inputs to the network are [0.15 0.74]\n"
     ]
    }
   ],
   "source": [
    "from random import seed\n",
    "\n",
    "np.random.seed(12)\n",
    "inputs = np.around(np.random.uniform(size=2), decimals=2)\n",
    "\n",
    "print(\"The inputs to the network are {}\".format(inputs))"
   ]
  },
  {
   "cell_type": "code",
   "execution_count": 73,
   "metadata": {},
   "outputs": [
    {
     "name": "stdout",
     "output_type": "stream",
     "text": [
      "The weighted sum at the first node in the hidden layer is 1.6371\n"
     ]
    }
   ],
   "source": [
    "node_weights = small_network['layer_1']['node_1']['weights']\n",
    "node_bias = small_network['layer_1']['node_1']['bias']\n",
    "\n",
    "weighted_sum = compute_weighted_sum(inputs, node_weights, node_bias)\n",
    "print('The weighted sum at the first node in the hidden layer is {}'.format(np.around(weighted_sum[0], decimals=4)))\n"
   ]
  },
  {
   "cell_type": "code",
   "execution_count": 74,
   "metadata": {},
   "outputs": [],
   "source": [
    "def node_activation(weighted_sum):\n",
    "    return 1.0 / (1.0 + np.exp(-1 * weighted_sum))"
   ]
  },
  {
   "cell_type": "code",
   "execution_count": 75,
   "metadata": {},
   "outputs": [
    {
     "data": {
      "text/plain": [
       "0.8371399475783373"
      ]
     },
     "execution_count": 75,
     "metadata": {},
     "output_type": "execute_result"
    }
   ],
   "source": [
    "node_activation(weighted_sum[0])"
   ]
  },
  {
   "cell_type": "code",
   "execution_count": 76,
   "metadata": {},
   "outputs": [],
   "source": [
    "def forward_propagate(network, inputs):\n",
    "    layer_inputs = list(inputs) # start with the input layer as the input to the first hidden layer\n",
    "    for layer in network:\n",
    "        layer_data = network[layer]\n",
    "        layer_outputs = []\n",
    "        \n",
    "        for layer_node in layer_data:\n",
    "            node_data = layer_data[layer_node]\n",
    "            \n",
    "            # compute the weighted sum and the output of each node at the same time\n",
    "            node_output = node_activation(compute_weighted_sum(layer_inputs, node_data['weights'], node_data['bias']))\n",
    "            layer_outputs.append(np.around(node_output[0], decimals = 4))\n",
    "            \n",
    "        if layer != 'output':\n",
    "            print('The output of the nodes in hidden layer number {} is {}'.format(layer.split('_')[1], layer_outputs))\n",
    "            \n",
    "        layer_inputs = layer_outputs # set the output of this layer to be input to the next layer\n",
    "    \n",
    "    network_predictions = layer_outputs\n",
    "    return network_predictions"
   ]
  },
  {
   "cell_type": "code",
   "execution_count": 78,
   "metadata": {},
   "outputs": [
    {
     "name": "stdout",
     "output_type": "stream",
     "text": [
      "The output of the nodes in hidden layer number 1 is [0.8371, 0.718, 0.6907]\n",
      "The output of the nodes in hidden layer number 2 is [0.7042, 0.8682]\n",
      "The predicted value by the network for the given input is 0.8232\n"
     ]
    }
   ],
   "source": [
    "predictions = forward_propagate(small_network, inputs)\n",
    "print('The predicted value by the network for the given input is {}'.format(np.around(predictions[0], decimals=4)))"
   ]
  },
  {
   "cell_type": "code",
   "execution_count": null,
   "metadata": {},
   "outputs": [],
   "source": []
  }
 ],
 "metadata": {
  "kernelspec": {
   "display_name": "Python 3",
   "language": "python",
   "name": "python3"
  },
  "language_info": {
   "codemirror_mode": {
    "name": "ipython",
    "version": 3
   },
   "file_extension": ".py",
   "mimetype": "text/x-python",
   "name": "python",
   "nbconvert_exporter": "python",
   "pygments_lexer": "ipython3",
   "version": "3.6.7"
  }
 },
 "nbformat": 4,
 "nbformat_minor": 2
}
