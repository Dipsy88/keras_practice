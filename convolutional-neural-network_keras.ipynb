{
 "cells": [
  {
   "cell_type": "code",
   "execution_count": 55,
   "metadata": {},
   "outputs": [],
   "source": [
    "import numpy as np\n",
    "import keras\n",
    "import pandas as pd\n",
    "import matplotlib.pyplot as plt\n",
    "from keras.models import Sequential\n",
    "from keras.layers import Dense\n",
    "from keras.utils import to_categorical"
   ]
  },
  {
   "cell_type": "code",
   "execution_count": 56,
   "metadata": {},
   "outputs": [],
   "source": [
    "# additional packages for covolutional neural network\n",
    "from keras.layers.convolutional import Conv2D # to add convolutional layers\n",
    "from keras.layers.convolutional import MaxPooling2D # to add pooling layers\n",
    "from keras.layers import Flatten # to flatten data for fully connected layers"
   ]
  },
  {
   "cell_type": "code",
   "execution_count": 57,
   "metadata": {},
   "outputs": [],
   "source": [
    "# colvolutional layer with two sets of convolutional and pooling layers\n",
    "\n",
    "# import data\n",
    "from keras.datasets import mnist\n",
    "\n",
    "# load data\n",
    "(X_train, y_train), (X_test, y_test) = mnist.load_data()\n",
    "\n",
    "# reshape to [samples][pixels][width][height]\n",
    "X_train = X_train.reshape(X_train.shape[0], 28, 28, 1).astype('float32')\n",
    "X_test = X_test.reshape(X_test.shape[0], 28, 28, 1).astype('float32')"
   ]
  },
  {
   "cell_type": "code",
   "execution_count": 58,
   "metadata": {},
   "outputs": [],
   "source": [
    "# normalize values between 0 and 1\n",
    "X_train = X_train /255\n",
    "X_test = X_test / 255"
   ]
  },
  {
   "cell_type": "code",
   "execution_count": 59,
   "metadata": {},
   "outputs": [],
   "source": [
    "# covert target variables into binary categories\n",
    "y_train = to_categorical(y_train)\n",
    "y_test = to_categorical(y_test)\n",
    "\n",
    "num_classes = y_train.shape[1]"
   ]
  },
  {
   "cell_type": "code",
   "execution_count": 60,
   "metadata": {},
   "outputs": [],
   "source": [
    "# define a function to create model\n",
    "\n",
    "def convolutional_model():\n",
    "    model = Sequential()\n",
    "    model.add(Conv2D(16, (5, 5), strides = (1,1), activation = 'relu', input_shape = (28, 28, 1)))\n",
    "    model.add(MaxPooling2D(pool_size=(2,2), strides = (2,2)))\n",
    "    \n",
    "    model.add(Flatten())\n",
    "    model.add(Dense(100, activation='relu'))\n",
    "    model.add(Dense(num_classes, activation ='softmax'))\n",
    "    \n",
    "    # compile the model\n",
    "    model.compile(optimizer='adam', loss='categorical_crossentropy', metrics = ['accuracy'])\n",
    "    return model\n"
   ]
  },
  {
   "cell_type": "code",
   "execution_count": 42,
   "metadata": {},
   "outputs": [
    {
     "name": "stdout",
     "output_type": "stream",
     "text": [
      "Train on 60000 samples, validate on 10000 samples\n",
      "Epoch 1/10\n",
      " - 12s - loss: 0.2890 - acc: 0.9203 - val_loss: 0.0999 - val_acc: 0.9708\n",
      "Epoch 2/10\n",
      " - 11s - loss: 0.0810 - acc: 0.9765 - val_loss: 0.0638 - val_acc: 0.9800\n",
      "Epoch 3/10\n",
      " - 15s - loss: 0.0568 - acc: 0.9829 - val_loss: 0.0511 - val_acc: 0.9827\n",
      "Epoch 4/10\n",
      " - 19s - loss: 0.0437 - acc: 0.9871 - val_loss: 0.0436 - val_acc: 0.9856\n",
      "Epoch 5/10\n",
      " - 16s - loss: 0.0355 - acc: 0.9898 - val_loss: 0.0407 - val_acc: 0.9855\n",
      "Epoch 6/10\n",
      " - 15s - loss: 0.0298 - acc: 0.9908 - val_loss: 0.0403 - val_acc: 0.9857\n",
      "Epoch 7/10\n",
      " - 14s - loss: 0.0244 - acc: 0.9928 - val_loss: 0.0370 - val_acc: 0.9876\n",
      "Epoch 8/10\n",
      " - 15s - loss: 0.0207 - acc: 0.9939 - val_loss: 0.0388 - val_acc: 0.9871\n",
      "Epoch 9/10\n",
      " - 15s - loss: 0.0169 - acc: 0.9951 - val_loss: 0.0412 - val_acc: 0.9864\n",
      "Epoch 10/10\n",
      " - 16s - loss: 0.0150 - acc: 0.9957 - val_loss: 0.0379 - val_acc: 0.9884\n",
      "Accuracy: 0.9884 \n",
      " Error: 1.1600000000000108\n"
     ]
    }
   ],
   "source": [
    "# build the model\n",
    "model = convolutional_model()\n",
    "\n",
    "# fit the model\n",
    "model.fit(X_train, y_train, validation_data=(X_test,y_test), epochs=10, batch_size=200, verbose=2)\n",
    "\n",
    "# evaluate the model\n",
    "scores = model.evaluate(X_test, y_test, verbose=0)\n",
    "print(\"Accuracy: {} \\n Error: {}\".format(scores[1], 100-scores[1]*100))\n"
   ]
  },
  {
   "cell_type": "code",
   "execution_count": null,
   "metadata": {},
   "outputs": [],
   "source": []
  },
  {
   "cell_type": "code",
   "execution_count": null,
   "metadata": {},
   "outputs": [],
   "source": []
  },
  {
   "cell_type": "code",
   "execution_count": 61,
   "metadata": {},
   "outputs": [],
   "source": [
    "# convolutional layer with two sets of covolutional and pooling layers\n",
    "def convolutional_model():\n",
    "    # create model\n",
    "    model = Sequential()\n",
    "    model.add(Conv2D(16,(5,5), activation='relu',input_shape=(28,28,1)))\n",
    "    model.add(MaxPooling2D(pool_size=(2,2), strides=(2, 2)))\n",
    "    \n",
    "    model.add(Conv2D(8, (2, 2), activation='relu'))\n",
    "    model.add(MaxPooling2D(pool_size=(2, 2), strides=(2, 2)))\n",
    "    \n",
    "    model.add(Flatten())\n",
    "    model.add(Dense(100, activation='relu'))\n",
    "    model.add(Dense(num_classes, activation='softmax'))\n",
    "    \n",
    "    # Compile model\n",
    "    model.compile(optimizer='adam', loss='categorical_crossentropy',  metrics=['accuracy'])\n",
    "    return model\n",
    "              \n"
   ]
  },
  {
   "cell_type": "code",
   "execution_count": 65,
   "metadata": {},
   "outputs": [
    {
     "name": "stdout",
     "output_type": "stream",
     "text": [
      "Epoch 1/10\n",
      " - 13s - loss: 0.5101 - acc: 0.8510\n",
      "Epoch 2/10\n",
      " - 14s - loss: 0.1164 - acc: 0.9654\n",
      "Epoch 3/10\n",
      " - 14s - loss: 0.0832 - acc: 0.9750\n",
      "Epoch 4/10\n",
      " - 14s - loss: 0.0678 - acc: 0.9792\n",
      "Epoch 5/10\n",
      " - 16s - loss: 0.0573 - acc: 0.9832\n",
      "Epoch 6/10\n",
      " - 15s - loss: 0.0512 - acc: 0.9846\n",
      "Epoch 7/10\n",
      " - 16s - loss: 0.0444 - acc: 0.9864\n",
      "Epoch 8/10\n",
      " - 16s - loss: 0.0402 - acc: 0.9880\n",
      "Epoch 9/10\n",
      " - 16s - loss: 0.0363 - acc: 0.9891\n",
      "Epoch 10/10\n",
      " - 15s - loss: 0.0324 - acc: 0.9903\n"
     ]
    },
    {
     "data": {
      "text/plain": [
       "<keras.callbacks.History at 0x183b45fc88>"
      ]
     },
     "execution_count": 65,
     "metadata": {},
     "output_type": "execute_result"
    }
   ],
   "source": [
    "# build the model\n",
    "model = convolutional_model()\n",
    "\n",
    "# fit the model\n",
    "model.fit(X_train,y_train, validation_data=(X_test,y_test), epochs=10, batch_size=200, verbose=2)\n",
    "\n",
    "# evaluate the model\n",
    "scores = model.evaluate(X_test,y_test, verbose=0)\n",
    "print(\"Accuracy: {} \\n Error: {}\".format(scores[1], 100-scores[1]*100))\n"
   ]
  },
  {
   "cell_type": "code",
   "execution_count": null,
   "metadata": {},
   "outputs": [],
   "source": []
  }
 ],
 "metadata": {
  "kernelspec": {
   "display_name": "Python 3",
   "language": "python",
   "name": "python3"
  },
  "language_info": {
   "codemirror_mode": {
    "name": "ipython",
    "version": 3
   },
   "file_extension": ".py",
   "mimetype": "text/x-python",
   "name": "python",
   "nbconvert_exporter": "python",
   "pygments_lexer": "ipython3",
   "version": "3.6.7"
  }
 },
 "nbformat": 4,
 "nbformat_minor": 2
}
